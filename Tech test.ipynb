{
 "cells": [
  {
   "cell_type": "markdown",
   "id": "20876b0b",
   "metadata": {},
   "source": [
    "# Product Data Tech Test"
   ]
  },
  {
   "cell_type": "markdown",
   "id": "8456fbb9",
   "metadata": {},
   "source": [
    "## 1. Basic data summary\n",
    "\n",
    "- Read in the csv files `accounts.csv` and `customers.csv`\n",
    "- Display a summary of the data and outline its range and completeness"
   ]
  },
  {
   "cell_type": "code",
   "execution_count": null,
   "id": "53bd143b",
   "metadata": {},
   "outputs": [],
   "source": [
    "# Your code should go here:\n",
    "\n"
   ]
  },
  {
   "cell_type": "markdown",
   "id": "5416dd56",
   "metadata": {},
   "source": [
    "## 2. Aggregation\n",
    "\n",
    "Assume that `accounts.csv` shows all accounts ever held by any customer:\n",
    "\n",
    "- Add a column to `customers.csv` showing how many accounts they hold\n",
    "- Add a column to `customers.csv` showing their total balance\n",
    "- Add a column to `customers.csv` showing when they first joined the bank"
   ]
  },
  {
   "cell_type": "code",
   "execution_count": null,
   "id": "41517af8",
   "metadata": {},
   "outputs": [],
   "source": [
    "# Your code should go here:\n",
    "\n"
   ]
  },
  {
   "cell_type": "markdown",
   "id": "711f04f2",
   "metadata": {},
   "source": [
    "## 3. Visualisation\n",
    "We want to understand our customers better, display the data in a way that gives an overview of our customers and their accounts."
   ]
  },
  {
   "cell_type": "code",
   "execution_count": null,
   "id": "bc0c989e",
   "metadata": {},
   "outputs": [],
   "source": [
    "# Your code should go here:\n",
    "\n"
   ]
  },
  {
   "cell_type": "markdown",
   "id": "70d4d0d4",
   "metadata": {},
   "source": [
    "## 4. Questions\n",
    "\n",
    "- How would you proceed if the data was only available via API?\n",
    "- What tools/languages do you normally use to visualise data, and why?\n",
    "- What tools/languages do you normally use to run statistical analyses, and why?\n",
    "- How does analytics differ between B2B and B2C products?"
   ]
  },
  {
   "cell_type": "code",
   "execution_count": null,
   "id": "06a479ed",
   "metadata": {},
   "outputs": [],
   "source": []
  }
 ],
 "metadata": {
  "kernelspec": {
   "display_name": "Python 3 (ipykernel)",
   "language": "python",
   "name": "python3"
  },
  "language_info": {
   "codemirror_mode": {
    "name": "ipython",
    "version": 3
   },
   "file_extension": ".py",
   "mimetype": "text/x-python",
   "name": "python",
   "nbconvert_exporter": "python",
   "pygments_lexer": "ipython3",
   "version": "3.9.12"
  }
 },
 "nbformat": 4,
 "nbformat_minor": 5
}
